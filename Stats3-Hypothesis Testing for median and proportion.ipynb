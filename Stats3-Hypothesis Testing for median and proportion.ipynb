{
 "cells": [
  {
   "cell_type": "code",
   "execution_count": 1,
   "metadata": {
    "ExecuteTime": {
     "end_time": "2021-11-24T03:06:55.762672Z",
     "start_time": "2021-11-24T03:06:55.307411Z"
    }
   },
   "outputs": [],
   "source": [
    "import numpy as np\n",
    "import pandas as pd"
   ]
  },
  {
   "cell_type": "code",
   "execution_count": 2,
   "metadata": {
    "ExecuteTime": {
     "end_time": "2021-11-24T03:07:13.391781Z",
     "start_time": "2021-11-24T03:07:13.352458Z"
    }
   },
   "outputs": [
    {
     "data": {
      "text/html": [
       "<div>\n",
       "<style scoped>\n",
       "    .dataframe tbody tr th:only-of-type {\n",
       "        vertical-align: middle;\n",
       "    }\n",
       "\n",
       "    .dataframe tbody tr th {\n",
       "        vertical-align: top;\n",
       "    }\n",
       "\n",
       "    .dataframe thead th {\n",
       "        text-align: right;\n",
       "    }\n",
       "</style>\n",
       "<table border=\"1\" class=\"dataframe\">\n",
       "  <thead>\n",
       "    <tr style=\"text-align: right;\">\n",
       "      <th></th>\n",
       "      <th>Name</th>\n",
       "      <th>Author</th>\n",
       "      <th>User Rating</th>\n",
       "      <th>Reviews</th>\n",
       "      <th>Price</th>\n",
       "      <th>Year</th>\n",
       "      <th>Genre</th>\n",
       "    </tr>\n",
       "  </thead>\n",
       "  <tbody>\n",
       "    <tr>\n",
       "      <th>0</th>\n",
       "      <td>10-Day Green Smoothie Cleanse</td>\n",
       "      <td>JJ Smith</td>\n",
       "      <td>4.7</td>\n",
       "      <td>17350</td>\n",
       "      <td>8</td>\n",
       "      <td>2016</td>\n",
       "      <td>Non Fiction</td>\n",
       "    </tr>\n",
       "    <tr>\n",
       "      <th>1</th>\n",
       "      <td>11/22/63: A Novel</td>\n",
       "      <td>Stephen King</td>\n",
       "      <td>4.6</td>\n",
       "      <td>2052</td>\n",
       "      <td>22</td>\n",
       "      <td>2011</td>\n",
       "      <td>Fiction</td>\n",
       "    </tr>\n",
       "    <tr>\n",
       "      <th>2</th>\n",
       "      <td>12 Rules for Life: An Antidote to Chaos</td>\n",
       "      <td>Jordan B. Peterson</td>\n",
       "      <td>4.7</td>\n",
       "      <td>18979</td>\n",
       "      <td>15</td>\n",
       "      <td>2018</td>\n",
       "      <td>Non Fiction</td>\n",
       "    </tr>\n",
       "    <tr>\n",
       "      <th>3</th>\n",
       "      <td>1984 (Signet Classics)</td>\n",
       "      <td>George Orwell</td>\n",
       "      <td>4.7</td>\n",
       "      <td>21424</td>\n",
       "      <td>6</td>\n",
       "      <td>2017</td>\n",
       "      <td>Fiction</td>\n",
       "    </tr>\n",
       "    <tr>\n",
       "      <th>4</th>\n",
       "      <td>5,000 Awesome Facts (About Everything!) (Natio...</td>\n",
       "      <td>National Geographic Kids</td>\n",
       "      <td>4.8</td>\n",
       "      <td>7665</td>\n",
       "      <td>12</td>\n",
       "      <td>2019</td>\n",
       "      <td>Non Fiction</td>\n",
       "    </tr>\n",
       "  </tbody>\n",
       "</table>\n",
       "</div>"
      ],
      "text/plain": [
       "                                                Name  \\\n",
       "0                      10-Day Green Smoothie Cleanse   \n",
       "1                                  11/22/63: A Novel   \n",
       "2            12 Rules for Life: An Antidote to Chaos   \n",
       "3                             1984 (Signet Classics)   \n",
       "4  5,000 Awesome Facts (About Everything!) (Natio...   \n",
       "\n",
       "                     Author  User Rating  Reviews  Price  Year        Genre  \n",
       "0                  JJ Smith          4.7    17350      8  2016  Non Fiction  \n",
       "1              Stephen King          4.6     2052     22  2011      Fiction  \n",
       "2        Jordan B. Peterson          4.7    18979     15  2018  Non Fiction  \n",
       "3             George Orwell          4.7    21424      6  2017      Fiction  \n",
       "4  National Geographic Kids          4.8     7665     12  2019  Non Fiction  "
      ]
     },
     "execution_count": 2,
     "metadata": {},
     "output_type": "execute_result"
    }
   ],
   "source": [
    "df=pd.read_csv('bestsellers with categories.csv')\n",
    "df.head()"
   ]
  },
  {
   "cell_type": "markdown",
   "metadata": {},
   "source": [
    "# Hypoteshis Testing For Median: Non Parametric"
   ]
  },
  {
   "cell_type": "markdown",
   "metadata": {},
   "source": [
    "Uji hipotesis parametrik memiliki asumsi-asumsi yang perlu dipenuhi, biasanya berupa distribusi data yang normal. Bagaimana apabila asumsi tersebut tidak dapat dipenuhi? Kita bisa mencoba menggunakan Uji Non Parametrik.  \n",
    "\n",
    "Pada Uji perbandingan non parametrik, kita membandingkan **median** antar populasi (parametrik, yang dibandingkan adalah mean).  \n",
    "Uji non parametrik tetap memiliki asusmsi yang harus dipenuhi, biasanya berupa:\n",
    "* sampel harus diambil secara acak dari populasi\n",
    "* tipe data numerik/ordinal  \n",
    "\n",
    "Uji non-Parametric untuk Median: Wilcoxon, Mann Whitney, Kruskal Wallis"
   ]
  },
  {
   "cell_type": "code",
   "execution_count": 3,
   "metadata": {
    "ExecuteTime": {
     "end_time": "2021-11-24T03:16:57.139201Z",
     "start_time": "2021-11-24T03:16:57.135211Z"
    }
   },
   "outputs": [],
   "source": [
    "# Sebelum melakukan uji hipotesis, seharusnya kita melakukan goodness of fit test, \n",
    "# untuk memastikan distribusi data kita sesuai dengan uji yang akan kita lakukan.\n",
    "# uji non parametrik bisa dipakai pada data yang distribusinya normal, \n",
    "# hanya saja, uji pamametrik memiliki power yang lebih tinggi, jadi kalau bisa menggunakan uji parametrik, gunakan parametrik"
   ]
  },
  {
   "cell_type": "markdown",
   "metadata": {},
   "source": [
    "## Mann Withney U\n",
    "Uji non parametrik untuk membandingkan median 2 populasi independen (mirip T-test 2 samples)  \n",
    "\n",
    "Kita akan membandingkan harga buku fiksi dan non fiksi"
   ]
  },
  {
   "cell_type": "code",
   "execution_count": 5,
   "metadata": {
    "ExecuteTime": {
     "end_time": "2021-11-24T03:20:45.720855Z",
     "start_time": "2021-11-24T03:20:45.700904Z"
    }
   },
   "outputs": [
    {
     "name": "stdout",
     "output_type": "stream",
     "text": [
      "Distribusi data diasumsikan tidak normal\n"
     ]
    }
   ],
   "source": [
    "from scipy.stats import shapiro\n",
    "stats, pval=shapiro(df['Price'])\n",
    "\n",
    "if pval>0.05:\n",
    "    print('Distribusi data diasumsikan normal')\n",
    "else:\n",
    "    print('Distribusi data diasumsikan tidak normal')\n",
    "#GOODNESS of FIT test\n",
    "#karena tidak normal, pakai uji non parametrik"
   ]
  },
  {
   "cell_type": "code",
   "execution_count": 6,
   "metadata": {
    "ExecuteTime": {
     "end_time": "2021-11-24T03:21:56.884758Z",
     "start_time": "2021-11-24T03:21:56.867803Z"
    }
   },
   "outputs": [
    {
     "data": {
      "text/plain": [
       "MannwhitneyuResult(statistic=27294.0, pvalue=7.981217771671606e-08)"
      ]
     },
     "execution_count": 6,
     "metadata": {},
     "output_type": "execute_result"
    }
   ],
   "source": [
    "from scipy.stats import mannwhitneyu\n",
    "mannwhitneyu(df[df['Genre']=='Fiction']['Price'],df[df['Genre']=='Non Fiction']['Price'])"
   ]
  },
  {
   "cell_type": "markdown",
   "metadata": {},
   "source": [
    "**Hypothesis**  \n",
    "Ho: Median dari harga buku non fiksi sama dengan harga buku fiksi  \n",
    "Ha: Median dari harga buku non fiksi lebih tinggi dari harga buku fiksi (one-tailed)"
   ]
  },
  {
   "cell_type": "code",
   "execution_count": 10,
   "metadata": {
    "ExecuteTime": {
     "end_time": "2021-11-24T03:26:00.493437Z",
     "start_time": "2021-11-24T03:26:00.475449Z"
    }
   },
   "outputs": [
    {
     "name": "stdout",
     "output_type": "stream",
     "text": [
      "3.990608885835803e-08\n",
      "tolak Ho\n"
     ]
    }
   ],
   "source": [
    "stats,pval=mannwhitneyu(\n",
    "    df[df['Genre']=='Non Fiction']['Price'],\n",
    "    df[df['Genre']=='Fiction']['Price'],\n",
    "    alternative='greater'\n",
    ")\n",
    "\n",
    "print(pval)\n",
    "\n",
    "if pval<=0.05:\n",
    "    print('tolak Ho')\n",
    "else:\n",
    "    print('terima Ho')"
   ]
  },
  {
   "cell_type": "markdown",
   "metadata": {},
   "source": [
    "karena p-value lebih kecil hari 0.05, kita punya cukup bukti untuk menolak Ho, artinya harga buku fiksi lebih tinggi dari harga buku non fiksi"
   ]
  },
  {
   "cell_type": "markdown",
   "metadata": {
    "ExecuteTime": {
     "end_time": "2021-11-24T03:28:32.998395Z",
     "start_time": "2021-11-24T03:28:32.987418Z"
    }
   },
   "source": [
    "## Wilcoxon\n",
    "Uji non parametric untuk 2 populasi berpasangan (seperti t-test paired)"
   ]
  },
  {
   "cell_type": "code",
   "execution_count": 12,
   "metadata": {
    "ExecuteTime": {
     "end_time": "2021-11-24T03:28:43.947112Z",
     "start_time": "2021-11-24T03:28:43.906216Z"
    }
   },
   "outputs": [
    {
     "data": {
      "text/html": [
       "<div>\n",
       "<style scoped>\n",
       "    .dataframe tbody tr th:only-of-type {\n",
       "        vertical-align: middle;\n",
       "    }\n",
       "\n",
       "    .dataframe tbody tr th {\n",
       "        vertical-align: top;\n",
       "    }\n",
       "\n",
       "    .dataframe thead th {\n",
       "        text-align: right;\n",
       "    }\n",
       "</style>\n",
       "<table border=\"1\" class=\"dataframe\">\n",
       "  <thead>\n",
       "    <tr style=\"text-align: right;\">\n",
       "      <th></th>\n",
       "      <th>using smartphone</th>\n",
       "      <th>no smartphone</th>\n",
       "      <th>diff</th>\n",
       "    </tr>\n",
       "  </thead>\n",
       "  <tbody>\n",
       "    <tr>\n",
       "      <th>0</th>\n",
       "      <td>604</td>\n",
       "      <td>636</td>\n",
       "      <td>-32</td>\n",
       "    </tr>\n",
       "    <tr>\n",
       "      <th>1</th>\n",
       "      <td>556</td>\n",
       "      <td>623</td>\n",
       "      <td>-67</td>\n",
       "    </tr>\n",
       "    <tr>\n",
       "      <th>2</th>\n",
       "      <td>540</td>\n",
       "      <td>615</td>\n",
       "      <td>-75</td>\n",
       "    </tr>\n",
       "    <tr>\n",
       "      <th>3</th>\n",
       "      <td>522</td>\n",
       "      <td>672</td>\n",
       "      <td>-150</td>\n",
       "    </tr>\n",
       "    <tr>\n",
       "      <th>4</th>\n",
       "      <td>469</td>\n",
       "      <td>601</td>\n",
       "      <td>-132</td>\n",
       "    </tr>\n",
       "    <tr>\n",
       "      <th>5</th>\n",
       "      <td>544</td>\n",
       "      <td>600</td>\n",
       "      <td>-56</td>\n",
       "    </tr>\n",
       "    <tr>\n",
       "      <th>6</th>\n",
       "      <td>513</td>\n",
       "      <td>542</td>\n",
       "      <td>-29</td>\n",
       "    </tr>\n",
       "    <tr>\n",
       "      <th>7</th>\n",
       "      <td>470</td>\n",
       "      <td>554</td>\n",
       "      <td>-84</td>\n",
       "    </tr>\n",
       "    <tr>\n",
       "      <th>8</th>\n",
       "      <td>556</td>\n",
       "      <td>543</td>\n",
       "      <td>13</td>\n",
       "    </tr>\n",
       "    <tr>\n",
       "      <th>9</th>\n",
       "      <td>531</td>\n",
       "      <td>520</td>\n",
       "      <td>11</td>\n",
       "    </tr>\n",
       "    <tr>\n",
       "      <th>10</th>\n",
       "      <td>599</td>\n",
       "      <td>609</td>\n",
       "      <td>-10</td>\n",
       "    </tr>\n",
       "    <tr>\n",
       "      <th>11</th>\n",
       "      <td>537</td>\n",
       "      <td>559</td>\n",
       "      <td>-22</td>\n",
       "    </tr>\n",
       "    <tr>\n",
       "      <th>12</th>\n",
       "      <td>619</td>\n",
       "      <td>595</td>\n",
       "      <td>24</td>\n",
       "    </tr>\n",
       "    <tr>\n",
       "      <th>13</th>\n",
       "      <td>536</td>\n",
       "      <td>565</td>\n",
       "      <td>-29</td>\n",
       "    </tr>\n",
       "    <tr>\n",
       "      <th>14</th>\n",
       "      <td>554</td>\n",
       "      <td>573</td>\n",
       "      <td>-19</td>\n",
       "    </tr>\n",
       "    <tr>\n",
       "      <th>15</th>\n",
       "      <td>467</td>\n",
       "      <td>554</td>\n",
       "      <td>-87</td>\n",
       "    </tr>\n",
       "  </tbody>\n",
       "</table>\n",
       "</div>"
      ],
      "text/plain": [
       "    using smartphone  no smartphone  diff\n",
       "0                604            636   -32\n",
       "1                556            623   -67\n",
       "2                540            615   -75\n",
       "3                522            672  -150\n",
       "4                469            601  -132\n",
       "5                544            600   -56\n",
       "6                513            542   -29\n",
       "7                470            554   -84\n",
       "8                556            543    13\n",
       "9                531            520    11\n",
       "10               599            609   -10\n",
       "11               537            559   -22\n",
       "12               619            595    24\n",
       "13               536            565   -29\n",
       "14               554            573   -19\n",
       "15               467            554   -87"
      ]
     },
     "execution_count": 12,
     "metadata": {},
     "output_type": "execute_result"
    }
   ],
   "source": [
    "df_paired=pd.DataFrame({'using smartphone':[604,556,540,522,469,544,513,470,556,531,599,537,619,536,554,467],\n",
    " 'no smartphone':[636, 623, 615, 672, 601, 600, 542, 554, 543, 520,609, 559, 595, 565, 573, 554]})\n",
    "df_paired['diff']=df_paired['using smartphone']-df_paired['no smartphone']\n",
    "\n",
    "df_paired"
   ]
  },
  {
   "cell_type": "code",
   "execution_count": 14,
   "metadata": {
    "ExecuteTime": {
     "end_time": "2021-11-24T03:31:31.067528Z",
     "start_time": "2021-11-24T03:31:31.062542Z"
    }
   },
   "outputs": [
    {
     "name": "stdout",
     "output_type": "stream",
     "text": [
      "Distribusi data diasumsikan normal\n"
     ]
    }
   ],
   "source": [
    "# goodness of fit test\n",
    "stats, pval=shapiro(df_paired['diff'])\n",
    "\n",
    "if pval>0.05:\n",
    "    print('Distribusi data diasumsikan normal')\n",
    "else:\n",
    "    print('Distribusi data diasumsikan tidak normal')\n",
    "    #karena kita mau coba wilcoxon, anggap saja tidak normal"
   ]
  },
  {
   "cell_type": "markdown",
   "metadata": {},
   "source": [
    "**Hypothesis**\n",
    "\n",
    "Ho: Median perbedaan kecepatan reaksi sama dengan 0 (pakai atau tidak pakai hp, kecepatan reaksi sama)  \n",
    "Ha: median perbedaan kecepatan reaksi tidak sama dengan 0 (two tailed) (pakai hp beda kecepatan reaksinya dengan yang tidak pakai)"
   ]
  },
  {
   "cell_type": "code",
   "execution_count": 15,
   "metadata": {
    "ExecuteTime": {
     "end_time": "2021-11-24T03:34:05.291869Z",
     "start_time": "2021-11-24T03:34:05.276878Z"
    }
   },
   "outputs": [
    {
     "name": "stdout",
     "output_type": "stream",
     "text": [
      "0.001678466796875\n",
      "Tolak Ho\n"
     ]
    }
   ],
   "source": [
    "from scipy.stats import wilcoxon\n",
    "\n",
    "stats, pval= wilcoxon(df_paired['diff']) #alternative default two sided\n",
    "\n",
    "print(pval)\n",
    "\n",
    "if pval<=0.05:\n",
    "    print('Tolak Ho')\n",
    "else:\n",
    "    print('Terima Ho')"
   ]
  },
  {
   "cell_type": "markdown",
   "metadata": {},
   "source": [
    "Karena P-val lebih kecil 0.05, kita punya cukup bukti untuk menolak Ho, artinya, ada perbedaan kecepatan reaksi antara pengemudi yang memakai smartphone dan tidak."
   ]
  },
  {
   "cell_type": "markdown",
   "metadata": {
    "ExecuteTime": {
     "end_time": "2021-11-24T03:37:46.870101Z",
     "start_time": "2021-11-24T03:37:46.864117Z"
    }
   },
   "source": [
    "## Kruskal Wallis\n",
    "Uji non Parametrik untuk membandingkan median lebih dari 2 populasi (temannya F test/ANOVA one way)  \n",
    "* ada satu asumsi lagi untuk kruskal wallis, yaitu semua populasi memiliki distribusi yang sama"
   ]
  },
  {
   "cell_type": "markdown",
   "metadata": {},
   "source": [
    "Kita akan membandingkan harga buku di tahun 2009, 2014 dan 2019  \n",
    "\n",
    "**Hypothesis**  \n",
    "Ho: tidak ada perbedaan nilai median harga buku antara tahun 2009, 2014, 2019\n",
    "H1: setidaknya ada satu pasang di antara tahun 2009, 2014 dan 2019 yang memiliki nilai median yang berbeda. (kita tidak tahu yang mana yang berbeda dan bagaimana perbedaannya)"
   ]
  },
  {
   "cell_type": "code",
   "execution_count": 17,
   "metadata": {
    "ExecuteTime": {
     "end_time": "2021-11-24T03:40:13.092267Z",
     "start_time": "2021-11-24T03:40:13.079270Z"
    }
   },
   "outputs": [],
   "source": [
    "from scipy.stats import kruskal"
   ]
  },
  {
   "cell_type": "code",
   "execution_count": 19,
   "metadata": {
    "ExecuteTime": {
     "end_time": "2021-11-24T03:41:27.978542Z",
     "start_time": "2021-11-24T03:41:27.959593Z"
    }
   },
   "outputs": [
    {
     "name": "stdout",
     "output_type": "stream",
     "text": [
      "0.11045396593880222\n",
      "Terima Ho\n"
     ]
    }
   ],
   "source": [
    "stats,pval= kruskal(*[df[df['Year']==i]['Price'] for i in [2009, 2014, 2019]])\n",
    "print(pval)\n",
    "\n",
    "if pval<=0.05:\n",
    "    print('Tolak Ho')\n",
    "else:\n",
    "    print('Terima Ho')"
   ]
  },
  {
   "cell_type": "code",
   "execution_count": 20,
   "metadata": {
    "ExecuteTime": {
     "end_time": "2021-11-24T03:42:12.780862Z",
     "start_time": "2021-11-24T03:42:12.762908Z"
    }
   },
   "outputs": [
    {
     "data": {
      "text/plain": [
       "KruskalResult(statistic=4.406312885328423, pvalue=0.11045396593880222)"
      ]
     },
     "execution_count": 20,
     "metadata": {},
     "output_type": "execute_result"
    }
   ],
   "source": [
    "# kalau diketik satu2\n",
    "kruskal(df[df['Year']==2009]['Price'],\n",
    "       df[df['Year']==2014]['Price'],\n",
    "       df[df['Year']==2019]['Price'])"
   ]
  },
  {
   "cell_type": "markdown",
   "metadata": {},
   "source": [
    "karena P value **tidak** lebih kecil dari 0.05, maka kita **tidak punya cukup bukti** untuk menolak Ho, artinya tidak ada perbedaan harga buku yang signifikan di tahun 2009,2014 dan 2019"
   ]
  },
  {
   "cell_type": "markdown",
   "metadata": {},
   "source": [
    "# Hypothesis Testing: Proportion\n",
    "Untuk data kategorikal/qualitatif  \n",
    "\n",
    "Uji Z untuk populasi tunggal dan 2 populasi, Chi Square"
   ]
  },
  {
   "cell_type": "code",
   "execution_count": 56,
   "metadata": {
    "ExecuteTime": {
     "end_time": "2021-11-24T04:29:12.818927Z",
     "start_time": "2021-11-24T04:29:12.797955Z"
    }
   },
   "outputs": [],
   "source": [
    "df=pd.read_csv('titanic.csv')"
   ]
  },
  {
   "cell_type": "code",
   "execution_count": 22,
   "metadata": {
    "ExecuteTime": {
     "end_time": "2021-11-24T03:48:58.944507Z",
     "start_time": "2021-11-24T03:48:58.933536Z"
    }
   },
   "outputs": [
    {
     "data": {
      "text/html": [
       "<div>\n",
       "<style scoped>\n",
       "    .dataframe tbody tr th:only-of-type {\n",
       "        vertical-align: middle;\n",
       "    }\n",
       "\n",
       "    .dataframe tbody tr th {\n",
       "        vertical-align: top;\n",
       "    }\n",
       "\n",
       "    .dataframe thead th {\n",
       "        text-align: right;\n",
       "    }\n",
       "</style>\n",
       "<table border=\"1\" class=\"dataframe\">\n",
       "  <thead>\n",
       "    <tr style=\"text-align: right;\">\n",
       "      <th></th>\n",
       "      <th>sex</th>\n",
       "      <th>age</th>\n",
       "      <th>parch</th>\n",
       "      <th>fare</th>\n",
       "      <th>class</th>\n",
       "      <th>deck</th>\n",
       "      <th>embark_town</th>\n",
       "      <th>alive</th>\n",
       "      <th>alone</th>\n",
       "    </tr>\n",
       "  </thead>\n",
       "  <tbody>\n",
       "    <tr>\n",
       "      <th>0</th>\n",
       "      <td>male</td>\n",
       "      <td>22.0</td>\n",
       "      <td>0</td>\n",
       "      <td>7.2500</td>\n",
       "      <td>Third</td>\n",
       "      <td>NaN</td>\n",
       "      <td>Southampton</td>\n",
       "      <td>no</td>\n",
       "      <td>False</td>\n",
       "    </tr>\n",
       "    <tr>\n",
       "      <th>1</th>\n",
       "      <td>female</td>\n",
       "      <td>38.0</td>\n",
       "      <td>0</td>\n",
       "      <td>71.2833</td>\n",
       "      <td>First</td>\n",
       "      <td>C</td>\n",
       "      <td>Cherbourg</td>\n",
       "      <td>yes</td>\n",
       "      <td>False</td>\n",
       "    </tr>\n",
       "    <tr>\n",
       "      <th>2</th>\n",
       "      <td>female</td>\n",
       "      <td>26.0</td>\n",
       "      <td>0</td>\n",
       "      <td>7.9250</td>\n",
       "      <td>Third</td>\n",
       "      <td>NaN</td>\n",
       "      <td>Southampton</td>\n",
       "      <td>yes</td>\n",
       "      <td>True</td>\n",
       "    </tr>\n",
       "    <tr>\n",
       "      <th>3</th>\n",
       "      <td>female</td>\n",
       "      <td>35.0</td>\n",
       "      <td>0</td>\n",
       "      <td>53.1000</td>\n",
       "      <td>First</td>\n",
       "      <td>C</td>\n",
       "      <td>Southampton</td>\n",
       "      <td>yes</td>\n",
       "      <td>False</td>\n",
       "    </tr>\n",
       "    <tr>\n",
       "      <th>4</th>\n",
       "      <td>male</td>\n",
       "      <td>35.0</td>\n",
       "      <td>0</td>\n",
       "      <td>8.0500</td>\n",
       "      <td>Third</td>\n",
       "      <td>NaN</td>\n",
       "      <td>Southampton</td>\n",
       "      <td>no</td>\n",
       "      <td>True</td>\n",
       "    </tr>\n",
       "  </tbody>\n",
       "</table>\n",
       "</div>"
      ],
      "text/plain": [
       "      sex   age  parch     fare  class deck  embark_town alive  alone\n",
       "0    male  22.0      0   7.2500  Third  NaN  Southampton    no  False\n",
       "1  female  38.0      0  71.2833  First    C    Cherbourg   yes  False\n",
       "2  female  26.0      0   7.9250  Third  NaN  Southampton   yes   True\n",
       "3  female  35.0      0  53.1000  First    C  Southampton   yes  False\n",
       "4    male  35.0      0   8.0500  Third  NaN  Southampton    no   True"
      ]
     },
     "execution_count": 22,
     "metadata": {},
     "output_type": "execute_result"
    }
   ],
   "source": [
    "df.head()"
   ]
  },
  {
   "cell_type": "markdown",
   "metadata": {},
   "source": [
    "## Z Test untuk Populasi Tunggal\n",
    "\n",
    "untuk menguji proporsi dari satu populasi dibandingkan dengan nilai proporsi tertentu.\n",
    "* Hanya untuk data dikotomi/ binari (yang punya 2 kategori)  \n",
    "\n",
    "Contoh: kita ingin membandingkan proporsi penumpang wanita dan pria di kapal titanic. Apakah proporsi wanita lebih besar dari pria?"
   ]
  },
  {
   "cell_type": "markdown",
   "metadata": {},
   "source": [
    "**Hypothesis**  \n",
    "Ho: proporsi penumpang wanita sama dengan proporsi penumpang pria (proporsi penumpang wanita=0.5)  \n",
    "H1: proporsi penumpang wanita lebih besar dari penumpang pria (proporsi penumpang wanita > 0.5)"
   ]
  },
  {
   "cell_type": "code",
   "execution_count": 23,
   "metadata": {
    "ExecuteTime": {
     "end_time": "2021-11-24T03:55:27.357261Z",
     "start_time": "2021-11-24T03:55:27.347283Z"
    }
   },
   "outputs": [],
   "source": [
    "from statsmodels.stats.proportion import proportions_ztest"
   ]
  },
  {
   "cell_type": "code",
   "execution_count": 28,
   "metadata": {
    "ExecuteTime": {
     "end_time": "2021-11-24T03:57:33.921698Z",
     "start_time": "2021-11-24T03:57:33.913718Z"
    }
   },
   "outputs": [],
   "source": [
    "# 2 argumen yang perlu dimasukan ke proportions_ztest: jumlah penumpang wanita, dan jumlah total data\n",
    "\n",
    "n_wanita=(df['sex']=='female').sum() # jumlah penumpang wanita\n",
    "n= len(df['sex']) # total jumlah penumpang"
   ]
  },
  {
   "cell_type": "code",
   "execution_count": 29,
   "metadata": {
    "ExecuteTime": {
     "end_time": "2021-11-24T04:00:34.221521Z",
     "start_time": "2021-11-24T04:00:34.198584Z"
    }
   },
   "outputs": [
    {
     "data": {
      "text/plain": [
       "(-9.22171878272267, 1.0)"
      ]
     },
     "execution_count": 29,
     "metadata": {},
     "output_type": "execute_result"
    }
   ],
   "source": [
    "proportions_ztest(n_wanita,n,0.5,'larger') \n",
    "# jumlah data yang ingin dibandingkan proporsinya, jumlah total data, proporsi pembanding\n",
    "# alternative: two sided, smaller, larger. Karena lebih besar, maka kita pakai larger"
   ]
  },
  {
   "cell_type": "code",
   "execution_count": 30,
   "metadata": {
    "ExecuteTime": {
     "end_time": "2021-11-24T04:01:25.638106Z",
     "start_time": "2021-11-24T04:01:25.619157Z"
    }
   },
   "outputs": [
    {
     "name": "stdout",
     "output_type": "stream",
     "text": [
      "Terima Ho\n"
     ]
    }
   ],
   "source": [
    "stats, pval=proportions_ztest(n_wanita,n,0.5,'larger') \n",
    "if pval<=0.05:\n",
    "    print('Tolak Ho')\n",
    "else:\n",
    "    print('Terima Ho')"
   ]
  },
  {
   "cell_type": "markdown",
   "metadata": {},
   "source": [
    "Karena p val lebih besar dari 0.05, kita tidak punya cukup bukti untuk menolak Ho, artinya, proporsi penumpang wanita tidak lebih besar dari penumpang pria."
   ]
  },
  {
   "cell_type": "code",
   "execution_count": 31,
   "metadata": {
    "ExecuteTime": {
     "end_time": "2021-11-24T04:02:35.647376Z",
     "start_time": "2021-11-24T04:02:35.638413Z"
    }
   },
   "outputs": [
    {
     "data": {
      "text/plain": [
       "0.35241301907968575"
      ]
     },
     "execution_count": 31,
     "metadata": {},
     "output_type": "execute_result"
    }
   ],
   "source": [
    "n_wanita/n # proporsi wanita <0.5"
   ]
  },
  {
   "cell_type": "markdown",
   "metadata": {},
   "source": [
    "## Z test untuk 2 populasi\n",
    "untuk menguji proporsi dari 2 populasi, di mana isi dari kedua populasi berupa variabel kategorikal dikotomi/ binari\n",
    "\n",
    "contoh: apakah proporsi **penumpang wanita yang selamat** lebih besar dari proporsi **penumpang pria yang selamat**"
   ]
  },
  {
   "cell_type": "markdown",
   "metadata": {
    "ExecuteTime": {
     "end_time": "2021-11-24T04:10:18.156223Z",
     "start_time": "2021-11-24T04:10:18.143227Z"
    }
   },
   "source": [
    "**Hypothesis**  \n",
    "Ho: Proporsi wanita yang selamat sama dengan proporsi pria yang selamat  \n",
    "Ha: Proporsi wanita yang selamat lebih besar dari proporsi pria yang selamat"
   ]
  },
  {
   "cell_type": "code",
   "execution_count": 39,
   "metadata": {
    "ExecuteTime": {
     "end_time": "2021-11-24T04:14:06.301169Z",
     "start_time": "2021-11-24T04:14:06.281934Z"
    }
   },
   "outputs": [
    {
     "data": {
      "text/html": [
       "<div>\n",
       "<style scoped>\n",
       "    .dataframe tbody tr th:only-of-type {\n",
       "        vertical-align: middle;\n",
       "    }\n",
       "\n",
       "    .dataframe tbody tr th {\n",
       "        vertical-align: top;\n",
       "    }\n",
       "\n",
       "    .dataframe thead th {\n",
       "        text-align: right;\n",
       "    }\n",
       "</style>\n",
       "<table border=\"1\" class=\"dataframe\">\n",
       "  <thead>\n",
       "    <tr style=\"text-align: right;\">\n",
       "      <th>alive</th>\n",
       "      <th>no</th>\n",
       "      <th>yes</th>\n",
       "    </tr>\n",
       "    <tr>\n",
       "      <th>sex</th>\n",
       "      <th></th>\n",
       "      <th></th>\n",
       "    </tr>\n",
       "  </thead>\n",
       "  <tbody>\n",
       "    <tr>\n",
       "      <th>female</th>\n",
       "      <td>81</td>\n",
       "      <td>233</td>\n",
       "    </tr>\n",
       "    <tr>\n",
       "      <th>male</th>\n",
       "      <td>468</td>\n",
       "      <td>109</td>\n",
       "    </tr>\n",
       "  </tbody>\n",
       "</table>\n",
       "</div>"
      ],
      "text/plain": [
       "alive    no  yes\n",
       "sex             \n",
       "female   81  233\n",
       "male    468  109"
      ]
     },
     "execution_count": 39,
     "metadata": {},
     "output_type": "execute_result"
    }
   ],
   "source": [
    "# kita perlu mencari dulu jumlah penumpang yang selamat berdasarkan gender dan ratio penumpang pria dan wanita\n",
    "\n",
    "df_count=pd.crosstab(df['sex'],df['alive'])\n",
    "df_count"
   ]
  },
  {
   "cell_type": "code",
   "execution_count": 36,
   "metadata": {
    "ExecuteTime": {
     "end_time": "2021-11-24T04:13:09.331131Z",
     "start_time": "2021-11-24T04:13:09.321157Z"
    }
   },
   "outputs": [
    {
     "data": {
      "text/plain": [
       "sex\n",
       "female    233\n",
       "male      109\n",
       "Name: yes, dtype: int64"
      ]
     },
     "execution_count": 36,
     "metadata": {},
     "output_type": "execute_result"
    }
   ],
   "source": [
    "df_count['yes'] #jumlah penumpang yang selamat berdasarkan gender"
   ]
  },
  {
   "cell_type": "code",
   "execution_count": 38,
   "metadata": {
    "ExecuteTime": {
     "end_time": "2021-11-24T04:13:49.645503Z",
     "start_time": "2021-11-24T04:13:49.632539Z"
    }
   },
   "outputs": [
    {
     "data": {
      "text/plain": [
       "sex\n",
       "female    314\n",
       "male      577\n",
       "dtype: int64"
      ]
     },
     "execution_count": 38,
     "metadata": {},
     "output_type": "execute_result"
    }
   ],
   "source": [
    "df_count.sum(axis=1) #jumlah penumpang berdasarkan gender"
   ]
  },
  {
   "cell_type": "code",
   "execution_count": 40,
   "metadata": {
    "ExecuteTime": {
     "end_time": "2021-11-24T04:16:47.306558Z",
     "start_time": "2021-11-24T04:16:47.286584Z"
    }
   },
   "outputs": [
    {
     "data": {
      "text/plain": [
       "(16.218833930670097, 1.8558738850567398e-59)"
      ]
     },
     "execution_count": 40,
     "metadata": {},
     "output_type": "execute_result"
    }
   ],
   "source": [
    "proportions_ztest(df_count['yes'],df_count.sum(axis=1),alternative='larger') \n",
    "#alternative larger karena mau uji penumpang wanita>pria, dan data wanita masuk duluan"
   ]
  },
  {
   "cell_type": "code",
   "execution_count": 41,
   "metadata": {
    "ExecuteTime": {
     "end_time": "2021-11-24T04:18:12.611126Z",
     "start_time": "2021-11-24T04:18:12.595163Z"
    }
   },
   "outputs": [
    {
     "name": "stdout",
     "output_type": "stream",
     "text": [
      "Tolak Ho\n"
     ]
    }
   ],
   "source": [
    "stats, pval=proportions_ztest(df_count['yes'],df_count.sum(axis=1),alternative='larger')  \n",
    "if pval<=0.05:\n",
    "    print('Tolak Ho')\n",
    "else:\n",
    "    print('Terima Ho')"
   ]
  },
  {
   "cell_type": "markdown",
   "metadata": {},
   "source": [
    "karena P value < 0.05, maka kita punya cukup bukti untuk menolak ho, artinya proporsi penumpang wanita yang selamat lebih besar dari pria"
   ]
  },
  {
   "cell_type": "code",
   "execution_count": 42,
   "metadata": {
    "ExecuteTime": {
     "end_time": "2021-11-24T04:19:19.122422Z",
     "start_time": "2021-11-24T04:19:19.099484Z"
    }
   },
   "outputs": [
    {
     "data": {
      "text/html": [
       "<div>\n",
       "<style scoped>\n",
       "    .dataframe tbody tr th:only-of-type {\n",
       "        vertical-align: middle;\n",
       "    }\n",
       "\n",
       "    .dataframe tbody tr th {\n",
       "        vertical-align: top;\n",
       "    }\n",
       "\n",
       "    .dataframe thead th {\n",
       "        text-align: right;\n",
       "    }\n",
       "</style>\n",
       "<table border=\"1\" class=\"dataframe\">\n",
       "  <thead>\n",
       "    <tr style=\"text-align: right;\">\n",
       "      <th>alive</th>\n",
       "      <th>no</th>\n",
       "      <th>yes</th>\n",
       "    </tr>\n",
       "    <tr>\n",
       "      <th>sex</th>\n",
       "      <th></th>\n",
       "      <th></th>\n",
       "    </tr>\n",
       "  </thead>\n",
       "  <tbody>\n",
       "    <tr>\n",
       "      <th>female</th>\n",
       "      <td>0.257962</td>\n",
       "      <td>0.742038</td>\n",
       "    </tr>\n",
       "    <tr>\n",
       "      <th>male</th>\n",
       "      <td>0.811092</td>\n",
       "      <td>0.188908</td>\n",
       "    </tr>\n",
       "  </tbody>\n",
       "</table>\n",
       "</div>"
      ],
      "text/plain": [
       "alive         no       yes\n",
       "sex                       \n",
       "female  0.257962  0.742038\n",
       "male    0.811092  0.188908"
      ]
     },
     "execution_count": 42,
     "metadata": {},
     "output_type": "execute_result"
    }
   ],
   "source": [
    "pd.crosstab(df['sex'],df['alive'],normalize='index')"
   ]
  },
  {
   "cell_type": "markdown",
   "metadata": {},
   "source": [
    "## Chi square\n",
    "Untuk menguji apakah dua variabel kategorikal memiliki hubungan satu dengan yang lain. (Chi squared test for independence)  \n",
    "[Bacaan lanjut](https://towardsdatascience.com/gentle-introduction-to-chi-square-test-for-independence-7182a7414a95)"
   ]
  },
  {
   "cell_type": "code",
   "execution_count": 43,
   "metadata": {
    "ExecuteTime": {
     "end_time": "2021-11-24T04:25:22.026510Z",
     "start_time": "2021-11-24T04:25:22.007562Z"
    }
   },
   "outputs": [],
   "source": [
    "from scipy.stats import chi2_contingency"
   ]
  },
  {
   "cell_type": "code",
   "execution_count": 44,
   "metadata": {
    "ExecuteTime": {
     "end_time": "2021-11-24T04:25:42.731429Z",
     "start_time": "2021-11-24T04:25:42.713447Z"
    }
   },
   "outputs": [
    {
     "data": {
      "text/plain": [
       "Southampton    644\n",
       "Cherbourg      168\n",
       "Queenstown      77\n",
       "Name: embark_town, dtype: int64"
      ]
     },
     "execution_count": 44,
     "metadata": {},
     "output_type": "execute_result"
    }
   ],
   "source": [
    "df['embark_town'].value_counts()"
   ]
  },
  {
   "cell_type": "code",
   "execution_count": 45,
   "metadata": {
    "ExecuteTime": {
     "end_time": "2021-11-24T04:26:05.449694Z",
     "start_time": "2021-11-24T04:26:05.421769Z"
    }
   },
   "outputs": [
    {
     "data": {
      "text/html": [
       "<div>\n",
       "<style scoped>\n",
       "    .dataframe tbody tr th:only-of-type {\n",
       "        vertical-align: middle;\n",
       "    }\n",
       "\n",
       "    .dataframe tbody tr th {\n",
       "        vertical-align: top;\n",
       "    }\n",
       "\n",
       "    .dataframe thead th {\n",
       "        text-align: right;\n",
       "    }\n",
       "</style>\n",
       "<table border=\"1\" class=\"dataframe\">\n",
       "  <thead>\n",
       "    <tr style=\"text-align: right;\">\n",
       "      <th>alive</th>\n",
       "      <th>no</th>\n",
       "      <th>yes</th>\n",
       "    </tr>\n",
       "    <tr>\n",
       "      <th>embark_town</th>\n",
       "      <th></th>\n",
       "      <th></th>\n",
       "    </tr>\n",
       "  </thead>\n",
       "  <tbody>\n",
       "    <tr>\n",
       "      <th>Cherbourg</th>\n",
       "      <td>75</td>\n",
       "      <td>93</td>\n",
       "    </tr>\n",
       "    <tr>\n",
       "      <th>Queenstown</th>\n",
       "      <td>47</td>\n",
       "      <td>30</td>\n",
       "    </tr>\n",
       "    <tr>\n",
       "      <th>Southampton</th>\n",
       "      <td>427</td>\n",
       "      <td>217</td>\n",
       "    </tr>\n",
       "  </tbody>\n",
       "</table>\n",
       "</div>"
      ],
      "text/plain": [
       "alive         no  yes\n",
       "embark_town          \n",
       "Cherbourg     75   93\n",
       "Queenstown    47   30\n",
       "Southampton  427  217"
      ]
     },
     "execution_count": 45,
     "metadata": {},
     "output_type": "execute_result"
    }
   ],
   "source": [
    "pd.crosstab(df['embark_town'],df['alive'])"
   ]
  },
  {
   "cell_type": "code",
   "execution_count": 46,
   "metadata": {
    "ExecuteTime": {
     "end_time": "2021-11-24T04:26:28.842752Z",
     "start_time": "2021-11-24T04:26:28.828791Z"
    }
   },
   "outputs": [
    {
     "data": {
      "text/plain": [
       "(26.48914983923762,\n",
       " 1.769922284120912e-06,\n",
       " 2,\n",
       " array([[103.7480315,  64.2519685],\n",
       "        [ 47.5511811,  29.4488189],\n",
       "        [397.7007874, 246.2992126]]))"
      ]
     },
     "execution_count": 46,
     "metadata": {},
     "output_type": "execute_result"
    }
   ],
   "source": [
    "chi2_contingency(pd.crosstab(df['embark_town'],df['alive']))\n",
    "#output: stats, pval, degree of freedom, expected value"
   ]
  },
  {
   "cell_type": "code",
   "execution_count": 59,
   "metadata": {
    "ExecuteTime": {
     "end_time": "2021-11-24T04:31:37.164781Z",
     "start_time": "2021-11-24T04:31:37.140844Z"
    }
   },
   "outputs": [
    {
     "name": "stdout",
     "output_type": "stream",
     "text": [
      "Tolak Ho\n"
     ]
    }
   ],
   "source": [
    "stats,pval, dof, expected=chi2_contingency(pd.crosstab(df['embark_town'],df['alive']))\n",
    "\n",
    "if pval<=0.05:\n",
    "    print('Tolak Ho')\n",
    "else:\n",
    "    print('Terima Ho')"
   ]
  },
  {
   "cell_type": "markdown",
   "metadata": {},
   "source": [
    "p value lebih kecil dari 0.05, kita punya cukup bukti untuk menolak Ho, artinya ada keterkaikan antara asal kota dengan keselamatan penumpang"
   ]
  },
  {
   "cell_type": "markdown",
   "metadata": {},
   "source": [
    "Uji perbandingan numerik:  \n",
    "* parametrik (mean)\n",
    "    * 1 populasi (T test)\n",
    "    * 2 populasi independen (T test 2 samples)\n",
    "    * 2 populasi berpasangan (T test paired)\n",
    "    * lebih dari 2 populasi (ANOVA one way/F test)  \n",
    "\n",
    "* Non Parametrik (kalau distibusi tidak normal) (median)\n",
    "    * 2 populasi independen (Mann Whitney)\n",
    "    * 2 populasi berpasangan (Wilcoxon)\n",
    "    * lebih dari 2 populasi (Kruskal Wallis)  \n",
    "    \n",
    "Uji perbandingan proporsi (data kategorikal):\n",
    "   * 1 populasi/variabel berisi 2 kategori: Z test\n",
    "   * 2 populasi/varibel berisi 2 kategori : Z test\n",
    "   * 2 variabel dengan >2 kategori: chi square (uji independen)\n",
    "    "
   ]
  },
  {
   "cell_type": "code",
   "execution_count": 60,
   "metadata": {
    "ExecuteTime": {
     "end_time": "2021-11-24T04:40:24.168990Z",
     "start_time": "2021-11-24T04:40:24.015402Z"
    }
   },
   "outputs": [],
   "source": [
    "# import seaborn as sns"
   ]
  },
  {
   "cell_type": "code",
   "execution_count": null,
   "metadata": {},
   "outputs": [],
   "source": [
    "# !pip install seaborn"
   ]
  }
 ],
 "metadata": {
  "kernelspec": {
   "display_name": "Python 3",
   "language": "python",
   "name": "python3"
  },
  "language_info": {
   "codemirror_mode": {
    "name": "ipython",
    "version": 3
   },
   "file_extension": ".py",
   "mimetype": "text/x-python",
   "name": "python",
   "nbconvert_exporter": "python",
   "pygments_lexer": "ipython3",
   "version": "3.8.3"
  },
  "toc": {
   "base_numbering": 1,
   "nav_menu": {},
   "number_sections": true,
   "sideBar": true,
   "skip_h1_title": false,
   "title_cell": "Table of Contents",
   "title_sidebar": "Contents",
   "toc_cell": false,
   "toc_position": {},
   "toc_section_display": true,
   "toc_window_display": false
  }
 },
 "nbformat": 4,
 "nbformat_minor": 4
}
