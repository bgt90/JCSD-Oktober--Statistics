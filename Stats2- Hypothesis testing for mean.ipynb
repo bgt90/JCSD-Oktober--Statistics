{
 "cells": [
  {
   "cell_type": "code",
   "execution_count": 16,
   "metadata": {
    "ExecuteTime": {
     "end_time": "2021-11-23T04:30:33.235053Z",
     "start_time": "2021-11-23T04:30:32.783168Z"
    }
   },
   "outputs": [],
   "source": [
    "import pandas as pd\n",
    "import numpy as np"
   ]
  },
  {
   "cell_type": "code",
   "execution_count": 17,
   "metadata": {
    "ExecuteTime": {
     "end_time": "2021-11-23T04:30:57.925271Z",
     "start_time": "2021-11-23T04:30:57.876370Z"
    }
   },
   "outputs": [
    {
     "data": {
      "text/html": [
       "<div>\n",
       "<style scoped>\n",
       "    .dataframe tbody tr th:only-of-type {\n",
       "        vertical-align: middle;\n",
       "    }\n",
       "\n",
       "    .dataframe tbody tr th {\n",
       "        vertical-align: top;\n",
       "    }\n",
       "\n",
       "    .dataframe thead th {\n",
       "        text-align: right;\n",
       "    }\n",
       "</style>\n",
       "<table border=\"1\" class=\"dataframe\">\n",
       "  <thead>\n",
       "    <tr style=\"text-align: right;\">\n",
       "      <th></th>\n",
       "      <th>Name</th>\n",
       "      <th>Author</th>\n",
       "      <th>User Rating</th>\n",
       "      <th>Reviews</th>\n",
       "      <th>Price</th>\n",
       "      <th>Year</th>\n",
       "      <th>Genre</th>\n",
       "    </tr>\n",
       "  </thead>\n",
       "  <tbody>\n",
       "    <tr>\n",
       "      <th>0</th>\n",
       "      <td>10-Day Green Smoothie Cleanse</td>\n",
       "      <td>JJ Smith</td>\n",
       "      <td>4.7</td>\n",
       "      <td>17350</td>\n",
       "      <td>8</td>\n",
       "      <td>2016</td>\n",
       "      <td>Non Fiction</td>\n",
       "    </tr>\n",
       "    <tr>\n",
       "      <th>1</th>\n",
       "      <td>11/22/63: A Novel</td>\n",
       "      <td>Stephen King</td>\n",
       "      <td>4.6</td>\n",
       "      <td>2052</td>\n",
       "      <td>22</td>\n",
       "      <td>2011</td>\n",
       "      <td>Fiction</td>\n",
       "    </tr>\n",
       "    <tr>\n",
       "      <th>2</th>\n",
       "      <td>12 Rules for Life: An Antidote to Chaos</td>\n",
       "      <td>Jordan B. Peterson</td>\n",
       "      <td>4.7</td>\n",
       "      <td>18979</td>\n",
       "      <td>15</td>\n",
       "      <td>2018</td>\n",
       "      <td>Non Fiction</td>\n",
       "    </tr>\n",
       "    <tr>\n",
       "      <th>3</th>\n",
       "      <td>1984 (Signet Classics)</td>\n",
       "      <td>George Orwell</td>\n",
       "      <td>4.7</td>\n",
       "      <td>21424</td>\n",
       "      <td>6</td>\n",
       "      <td>2017</td>\n",
       "      <td>Fiction</td>\n",
       "    </tr>\n",
       "    <tr>\n",
       "      <th>4</th>\n",
       "      <td>5,000 Awesome Facts (About Everything!) (Natio...</td>\n",
       "      <td>National Geographic Kids</td>\n",
       "      <td>4.8</td>\n",
       "      <td>7665</td>\n",
       "      <td>12</td>\n",
       "      <td>2019</td>\n",
       "      <td>Non Fiction</td>\n",
       "    </tr>\n",
       "  </tbody>\n",
       "</table>\n",
       "</div>"
      ],
      "text/plain": [
       "                                                Name  \\\n",
       "0                      10-Day Green Smoothie Cleanse   \n",
       "1                                  11/22/63: A Novel   \n",
       "2            12 Rules for Life: An Antidote to Chaos   \n",
       "3                             1984 (Signet Classics)   \n",
       "4  5,000 Awesome Facts (About Everything!) (Natio...   \n",
       "\n",
       "                     Author  User Rating  Reviews  Price  Year        Genre  \n",
       "0                  JJ Smith          4.7    17350      8  2016  Non Fiction  \n",
       "1              Stephen King          4.6     2052     22  2011      Fiction  \n",
       "2        Jordan B. Peterson          4.7    18979     15  2018  Non Fiction  \n",
       "3             George Orwell          4.7    21424      6  2017      Fiction  \n",
       "4  National Geographic Kids          4.8     7665     12  2019  Non Fiction  "
      ]
     },
     "execution_count": 17,
     "metadata": {},
     "output_type": "execute_result"
    }
   ],
   "source": [
    "df=pd.read_csv('bestsellers with categories.csv')\n",
    "df.head()"
   ]
  },
  {
   "cell_type": "markdown",
   "metadata": {},
   "source": [
    "# Hypothesis Testing for Mean\n",
    "* datanya Continuous\n",
    "* **Parametrik**\n",
    "* membandingkan **rata-rata** dari populasi\n",
    "* One sample T-test, T-test paired, Two independent samples T-test, One way ANOVA/F test for more that 2 population mean\n",
    "* Termasuk Uji Parametrik\n",
    "    * memiliki asumsi2 tertentu yang perlu dipenuhi\n",
    "    * asumsi distribusi normal"
   ]
  },
  {
   "cell_type": "markdown",
   "metadata": {
    "ExecuteTime": {
     "end_time": "2021-11-23T04:29:33.137337Z",
     "start_time": "2021-11-23T04:29:33.121382Z"
    }
   },
   "source": [
    "## One Sample T-test\n",
    "membandingkan rata-rata pengukuran dari suatu kelompok (A) dengan nilai teoritis yang diharapkan.  \n",
    "\n",
    "Di contoh kali ini kita akan coba membuktikan hipotesis bahwa rata-rata harga buku di Amazon adalah 10 atau di atas 10."
   ]
  },
  {
   "cell_type": "markdown",
   "metadata": {},
   "source": [
    "**Hypothesis**  \n",
    "Ho: Rata-rata harga buku di Amazon bestseller adalah 10 usd (praduga tak bersalah)  \n",
    "Ha: Rata-rata harga buku di Amazon lebih besar dari 10 usd (alternatif)  (1 tailed t test)"
   ]
  },
  {
   "cell_type": "code",
   "execution_count": 4,
   "metadata": {
    "ExecuteTime": {
     "end_time": "2021-11-23T04:37:08.102543Z",
     "start_time": "2021-11-23T04:37:08.085622Z"
    }
   },
   "outputs": [
    {
     "data": {
      "text/plain": [
       "Ttest_1sampResult(statistic=6.705376094208877, pvalue=5.001628960126041e-11)"
      ]
     },
     "execution_count": 4,
     "metadata": {},
     "output_type": "execute_result"
    }
   ],
   "source": [
    "from scipy.stats import ttest_1samp\n",
    "\n",
    "ttest_1samp(df['Price'],10) #(data, estimasi pembanding)\n",
    "# perhatikan di hasil p-val, terdapat e-11, artinya p value kita memiliki nilai dikali 10 pangkat -11"
   ]
  },
  {
   "cell_type": "code",
   "execution_count": 5,
   "metadata": {},
   "outputs": [
    {
     "data": {
      "text/plain": [
       "Ttest_1sampResult(statistic=6.705376094208877, pvalue=2.5008144800630206e-11)"
      ]
     },
     "execution_count": 5,
     "metadata": {},
     "output_type": "execute_result"
    }
   ],
   "source": [
    "ttest_1samp(df['Price'],10,alternative='greater') #kalau pakai alternatif, tidak perlu dibagi 2 lagi p valuenya"
   ]
  },
  {
   "cell_type": "code",
   "execution_count": 8,
   "metadata": {
    "ExecuteTime": {
     "end_time": "2021-11-23T04:42:49.769372Z",
     "start_time": "2021-11-23T04:42:49.756399Z"
    }
   },
   "outputs": [
    {
     "name": "stdout",
     "output_type": "stream",
     "text": [
      "Tolak Ho, rata-rata harga >10 USD\n"
     ]
    }
   ],
   "source": [
    "# conclusion\n",
    "\n",
    "tstats, tpval= ttest_1samp(df['Price'],10)\n",
    " \n",
    "if tpval/2<=0.05:# Ha membandingkan secara 1 arah/ 1 tailed, jadi p val perlu dibagi 2 \n",
    "    print('Tolak Ho, rata-rata harga >10 USD')\n",
    "else:\n",
    "    print('Terima Ho, rata-rata harga tidak lebih besar dari 10')"
   ]
  },
  {
   "cell_type": "markdown",
   "metadata": {},
   "source": [
    "Kesimpulan: P value lebih rendah dari tingkat signifikansi 0.05, artinya, kita punya cukup bukti untuk menolak Ho, jadi rata-rata buku lebih besar dari 10 USD, dengan tingkat signifikansi 5% atau tingkat kepercayaan 95%."
   ]
  },
  {
   "cell_type": "code",
   "execution_count": 10,
   "metadata": {
    "ExecuteTime": {
     "end_time": "2021-11-23T04:44:55.965390Z",
     "start_time": "2021-11-23T04:44:55.954360Z"
    }
   },
   "outputs": [
    {
     "data": {
      "text/plain": [
       "13.1"
      ]
     },
     "execution_count": 10,
     "metadata": {},
     "output_type": "execute_result"
    }
   ],
   "source": [
    "df['Price'].mean() #ketika di cek rata2 harga buku 13.1, dan ini dinilai signifikan lebih tinggi dari 10 oleh uji statistik"
   ]
  },
  {
   "cell_type": "markdown",
   "metadata": {},
   "source": [
    "## Two Independent Samples T-test  \n",
    "digunakan untuk membandingkan **rata-rata** dari 2 populasi A dan B yang independen/tidak saling berkaitan.  \n",
    "Apakah rata-rata di populasi A berbeda dari rata-rata populasi B?  \n",
    "\n",
    "Pada contoh berikut, populasi A kita adalah buku Fiksi, sedangkan populasi B adalah buku non fiksi. Kita ingin membandingkan rata-rata harga buku di kedua populasi.  \n",
    "\n",
    "* Asumsi: distribusi harga buku normal"
   ]
  },
  {
   "cell_type": "code",
   "execution_count": 13,
   "metadata": {
    "ExecuteTime": {
     "end_time": "2021-11-23T04:49:07.127596Z",
     "start_time": "2021-11-23T04:49:07.109644Z"
    }
   },
   "outputs": [
    {
     "data": {
      "text/html": [
       "<div>\n",
       "<style scoped>\n",
       "    .dataframe tbody tr th:only-of-type {\n",
       "        vertical-align: middle;\n",
       "    }\n",
       "\n",
       "    .dataframe tbody tr th {\n",
       "        vertical-align: top;\n",
       "    }\n",
       "\n",
       "    .dataframe thead th {\n",
       "        text-align: right;\n",
       "    }\n",
       "</style>\n",
       "<table border=\"1\" class=\"dataframe\">\n",
       "  <thead>\n",
       "    <tr style=\"text-align: right;\">\n",
       "      <th></th>\n",
       "      <th>Genre</th>\n",
       "      <th>Price</th>\n",
       "    </tr>\n",
       "  </thead>\n",
       "  <tbody>\n",
       "    <tr>\n",
       "      <th>0</th>\n",
       "      <td>Non Fiction</td>\n",
       "      <td>8</td>\n",
       "    </tr>\n",
       "    <tr>\n",
       "      <th>1</th>\n",
       "      <td>Fiction</td>\n",
       "      <td>22</td>\n",
       "    </tr>\n",
       "    <tr>\n",
       "      <th>2</th>\n",
       "      <td>Non Fiction</td>\n",
       "      <td>15</td>\n",
       "    </tr>\n",
       "    <tr>\n",
       "      <th>3</th>\n",
       "      <td>Fiction</td>\n",
       "      <td>6</td>\n",
       "    </tr>\n",
       "    <tr>\n",
       "      <th>4</th>\n",
       "      <td>Non Fiction</td>\n",
       "      <td>12</td>\n",
       "    </tr>\n",
       "  </tbody>\n",
       "</table>\n",
       "</div>"
      ],
      "text/plain": [
       "         Genre  Price\n",
       "0  Non Fiction      8\n",
       "1      Fiction     22\n",
       "2  Non Fiction     15\n",
       "3      Fiction      6\n",
       "4  Non Fiction     12"
      ]
     },
     "execution_count": 13,
     "metadata": {},
     "output_type": "execute_result"
    }
   ],
   "source": [
    "df[['Genre','Price']].head()"
   ]
  },
  {
   "cell_type": "markdown",
   "metadata": {},
   "source": [
    "**Hypotesis**    \n",
    "Ho: Rata-rata harga buku Fiksi = rata-rata harga buku non Fiksi  \n",
    "Ha: Rata-rata haarga buku Fiksi >< rata-rata harga buku non Fiksi (two tailed test)  "
   ]
  },
  {
   "cell_type": "code",
   "execution_count": 14,
   "metadata": {
    "ExecuteTime": {
     "end_time": "2021-11-23T04:51:25.627200Z",
     "start_time": "2021-11-23T04:51:25.614205Z"
    }
   },
   "outputs": [],
   "source": [
    "# uji 1 tailed biasanya ditandai dengan >, < pada Ha\n",
    "# uji 2 tailed ditandai dengan tanda tidak sama dengan pada Ha"
   ]
  },
  {
   "cell_type": "markdown",
   "metadata": {},
   "source": [
    "Pada Two Independent Samples T-test, terdapat 2 uji, tergantung dari nilai variance kedua populasi.    \n",
    "\n",
    "Kalau nilai variance kedua populasi tidak seimbang (salah satu memiliki nilai lebih dari 2 kali lipat yang lainnya), gunakan Non equal Variance assumption.  \n",
    "Kalau nilai variance seimbang, maka gunakan equal variance assumption."
   ]
  },
  {
   "cell_type": "markdown",
   "metadata": {
    "ExecuteTime": {
     "end_time": "2021-11-23T04:53:43.998427Z",
     "start_time": "2021-11-23T04:53:43.983467Z"
    }
   },
   "source": [
    "### Non Equal Variance Assumption"
   ]
  },
  {
   "cell_type": "code",
   "execution_count": 16,
   "metadata": {
    "ExecuteTime": {
     "end_time": "2021-11-23T04:54:18.778588Z",
     "start_time": "2021-11-23T04:54:18.767272Z"
    }
   },
   "outputs": [
    {
     "data": {
      "text/plain": [
       "1      22\n",
       "3       6\n",
       "5      11\n",
       "6      30\n",
       "7      15\n",
       "       ..\n",
       "541     9\n",
       "542     9\n",
       "543     9\n",
       "544     9\n",
       "545     8\n",
       "Name: Price, Length: 240, dtype: int64"
      ]
     },
     "execution_count": 16,
     "metadata": {},
     "output_type": "execute_result"
    }
   ],
   "source": [
    "df[df['Genre']=='Fiction']['Price'] # harga buku fiksi"
   ]
  },
  {
   "cell_type": "code",
   "execution_count": 32,
   "metadata": {
    "ExecuteTime": {
     "end_time": "2021-11-23T05:03:25.929725Z",
     "start_time": "2021-11-23T05:03:25.922746Z"
    }
   },
   "outputs": [
    {
     "data": {
      "text/plain": [
       "Ttest_indResult(statistic=-4.537208093329263, pvalue=7.019009601772709e-06)"
      ]
     },
     "execution_count": 32,
     "metadata": {},
     "output_type": "execute_result"
    }
   ],
   "source": [
    "from scipy.stats import ttest_ind\n",
    "\n",
    "ttest_ind(\n",
    "    df[df['Genre']=='Fiction']['Price'],\n",
    "    df[df['Genre']=='Non Fiction']['Price'],\n",
    "    equal_var=False #karena non equal variance\n",
    ")"
   ]
  },
  {
   "cell_type": "code",
   "execution_count": 31,
   "metadata": {
    "ExecuteTime": {
     "end_time": "2021-11-23T05:03:19.105855Z",
     "start_time": "2021-11-23T05:03:19.096913Z"
    }
   },
   "outputs": [
    {
     "name": "stdout",
     "output_type": "stream",
     "text": [
      "Tolak Ho, rata-rata buku tidak fiksi sama dengan non fiksi\n"
     ]
    }
   ],
   "source": [
    "tstats, tpval=ttest_ind(\n",
    "    df[df['Genre']=='Fiction']['Price'],\n",
    "    df[df['Genre']=='Non Fiction']['Price'], \n",
    "    equal_var=False \n",
    ")\n",
    "\n",
    "if tpval<=0.05: #2tailed, tidak perlu dibagi 2\n",
    "    print('Tolak Ho, rata-rata buku tidak fiksi sama dengan non fiksi')\n",
    "else:\n",
    "    print('Terima Ho, rata-rata buku fiksi sama dengan non fiksi')"
   ]
  },
  {
   "cell_type": "markdown",
   "metadata": {},
   "source": [
    "Kesimpulan: P val lebih rendah dari tingkat signifikasi (alpha) 0.05, artinya kita memiliki cukup bukti untuk menolak Ho, jadi, harga buku fiksi tidak sama dengan buku non fiksi.\n",
    "\n",
    "Coba kita cek manual harga buku dari masing-masing genre."
   ]
  },
  {
   "cell_type": "code",
   "execution_count": 22,
   "metadata": {
    "ExecuteTime": {
     "end_time": "2021-11-23T04:59:30.740224Z",
     "start_time": "2021-11-23T04:59:30.710303Z"
    }
   },
   "outputs": [
    {
     "data": {
      "text/html": [
       "<div>\n",
       "<style scoped>\n",
       "    .dataframe tbody tr th:only-of-type {\n",
       "        vertical-align: middle;\n",
       "    }\n",
       "\n",
       "    .dataframe tbody tr th {\n",
       "        vertical-align: top;\n",
       "    }\n",
       "\n",
       "    .dataframe thead th {\n",
       "        text-align: right;\n",
       "    }\n",
       "</style>\n",
       "<table border=\"1\" class=\"dataframe\">\n",
       "  <thead>\n",
       "    <tr style=\"text-align: right;\">\n",
       "      <th></th>\n",
       "      <th>Price</th>\n",
       "    </tr>\n",
       "    <tr>\n",
       "      <th>Genre</th>\n",
       "      <th></th>\n",
       "    </tr>\n",
       "  </thead>\n",
       "  <tbody>\n",
       "    <tr>\n",
       "      <th>Fiction</th>\n",
       "      <td>10.850000</td>\n",
       "    </tr>\n",
       "    <tr>\n",
       "      <th>Non Fiction</th>\n",
       "      <td>14.841935</td>\n",
       "    </tr>\n",
       "  </tbody>\n",
       "</table>\n",
       "</div>"
      ],
      "text/plain": [
       "                 Price\n",
       "Genre                 \n",
       "Fiction      10.850000\n",
       "Non Fiction  14.841935"
      ]
     },
     "execution_count": 22,
     "metadata": {},
     "output_type": "execute_result"
    }
   ],
   "source": [
    "df[['Genre','Price']].groupby('Genre').mean()\n",
    "# beda 4 usd, kita bisa coba uji ulang, dengan Ha harga buku non fiksi > dari ahrga buku fiksi"
   ]
  },
  {
   "cell_type": "markdown",
   "metadata": {},
   "source": [
    "### Equal Variance Assumption"
   ]
  },
  {
   "cell_type": "code",
   "execution_count": 23,
   "metadata": {
    "ExecuteTime": {
     "end_time": "2021-11-23T04:59:47.638499Z",
     "start_time": "2021-11-23T04:59:47.628493Z"
    }
   },
   "outputs": [
    {
     "data": {
      "text/plain": [
       "73.49205020920503"
      ]
     },
     "execution_count": 23,
     "metadata": {},
     "output_type": "execute_result"
    }
   ],
   "source": [
    "df[df['Genre']=='Fiction']['Price'].var()"
   ]
  },
  {
   "cell_type": "code",
   "execution_count": 24,
   "metadata": {
    "ExecuteTime": {
     "end_time": "2021-11-23T04:59:55.560406Z",
     "start_time": "2021-11-23T04:59:55.553411Z"
    }
   },
   "outputs": [
    {
     "data": {
      "text/plain": [
       "145.0396596721994"
      ]
     },
     "execution_count": 24,
     "metadata": {},
     "output_type": "execute_result"
    }
   ],
   "source": [
    "df[df['Genre']=='Non Fiction']['Price'].var()"
   ]
  },
  {
   "cell_type": "code",
   "execution_count": 26,
   "metadata": {
    "ExecuteTime": {
     "end_time": "2021-11-23T05:00:41.129466Z",
     "start_time": "2021-11-23T05:00:41.103540Z"
    }
   },
   "outputs": [
    {
     "data": {
      "text/plain": [
       "1.9735421621702545"
      ]
     },
     "execution_count": 26,
     "metadata": {},
     "output_type": "execute_result"
    }
   ],
   "source": [
    "df[df['Genre']=='Non Fiction']['Price'].var()/df[df['Genre']=='Fiction']['Price'].var()\n",
    "\n",
    "#perbandingan variance tidak lebih besar dari 2, jadi seharusya kita pakai  asumsi equal variance"
   ]
  },
  {
   "cell_type": "code",
   "execution_count": 28,
   "metadata": {
    "ExecuteTime": {
     "end_time": "2021-11-23T05:02:24.740143Z",
     "start_time": "2021-11-23T05:02:24.721652Z"
    }
   },
   "outputs": [
    {
     "name": "stdout",
     "output_type": "stream",
     "text": [
      "-4.351608076818746 1.612435071812073e-05\n",
      "Tolak Ho, rata-rata buku tidak fiksi sama dengan non fiksi\n"
     ]
    }
   ],
   "source": [
    "tstats, tpval=ttest_ind(\n",
    "    df[df['Genre']=='Fiction']['Price'],\n",
    "    df[df['Genre']=='Non Fiction']['Price'],\n",
    "    equal_var=True #karena asumsi equal variance\n",
    ")\n",
    "print(tstats,tpval)\n",
    "\n",
    "if tpval<=0.05: #2tailed, tidak perlu dibagi 2\n",
    "    print('Tolak Ho, rata-rata buku tidak fiksi sama dengan non fiksi')\n",
    "else:\n",
    "    print('Terima Ho, rata-rata buku fiksi sama dengan non fiksi')"
   ]
  },
  {
   "cell_type": "code",
   "execution_count": null,
   "metadata": {},
   "outputs": [],
   "source": []
  },
  {
   "cell_type": "code",
   "execution_count": null,
   "metadata": {},
   "outputs": [],
   "source": []
  },
  {
   "cell_type": "code",
   "execution_count": null,
   "metadata": {},
   "outputs": [],
   "source": []
  }
 ],
 "metadata": {
  "kernelspec": {
   "display_name": "Python 3",
   "language": "python",
   "name": "python3"
  },
  "language_info": {
   "codemirror_mode": {
    "name": "ipython",
    "version": 3
   },
   "file_extension": ".py",
   "mimetype": "text/x-python",
   "name": "python",
   "nbconvert_exporter": "python",
   "pygments_lexer": "ipython3",
   "version": "3.8.3"
  },
  "toc": {
   "base_numbering": 1,
   "nav_menu": {},
   "number_sections": true,
   "sideBar": true,
   "skip_h1_title": false,
   "title_cell": "Table of Contents",
   "title_sidebar": "Contents",
   "toc_cell": false,
   "toc_position": {},
   "toc_section_display": true,
   "toc_window_display": false
  }
 },
 "nbformat": 4,
 "nbformat_minor": 4
}
